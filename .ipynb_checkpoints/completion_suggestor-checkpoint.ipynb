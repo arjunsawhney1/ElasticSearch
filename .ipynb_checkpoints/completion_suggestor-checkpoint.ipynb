{
 "cells": [
  {
   "cell_type": "code",
   "execution_count": 1,
   "metadata": {},
   "outputs": [],
   "source": [
    "import elasticsearch\n",
    "import json\n",
    "import pprint\n",
    "\n",
    "# Dev ES\n",
    "url = \"https://search-dev-testing-owoy757u6rbd4s3elcbbozltdy.us-east-1.es.amazonaws.com\"\n",
    "es = elasticsearch.Elasticsearch([url], port=80)"
   ]
  },
  {
   "cell_type": "code",
   "execution_count": 17,
   "metadata": {},
   "outputs": [],
   "source": [
    "def search_suggest(searchTerm):\n",
    "\n",
    "    q = {\n",
    "        \"_source\": [\"title\"],\n",
    "        \"sort\": {\n",
    "        \"_score\": \"desc\"\n",
    "        },\n",
    "        \"suggest\": {\n",
    "            \"quiz-suggest\" : {\n",
    "                \"prefix\" : searchTerm, \n",
    "                \"completion\" : {\n",
    "                    \"field\" : \"suggest\",\n",
    "                    \"skip_duplicates\": True\n",
    "#                     \"fuzzy\": {\n",
    "#                         \"fuzziness\": \"auto\"\n",
    "#                     }\n",
    "                }\n",
    "            }\n",
    "        }\n",
    "    }\n",
    "\n",
    "    result = es.search(index=\"suggest_topic\", body=json.dumps(q))\n",
    "    result = result['suggest']['quiz-suggest'][0]['options']\n",
    "\n",
    "    return [i['_source']['title'] for i in result]"
   ]
  },
  {
   "cell_type": "code",
   "execution_count": 18,
   "metadata": {},
   "outputs": [
    {
     "data": {
      "text/plain": [
       "['Mathematics: Basic Operations']"
      ]
     },
     "execution_count": 18,
     "metadata": {},
     "output_type": "execute_result"
    }
   ],
   "source": [
    "search_suggest('mathematics')"
   ]
  },
  {
   "cell_type": "code",
   "execution_count": 52,
   "metadata": {},
   "outputs": [
    {
     "name": "stdout",
     "output_type": "stream",
     "text": [
      "{'_shards': {'failed': 0, 'skipped': 0, 'successful': 5, 'total': 5},\n",
      " 'hits': {'hits': [], 'max_score': 0.0, 'total': 0},\n",
      " 'suggest': {'quiz-suggest': [{'length': 3,\n",
      "                               'offset': 0,\n",
      "                               'options': [{'_id': '11735',\n",
      "                                            '_index': 'suggest_quiz',\n",
      "                                            '_score': 27.0,\n",
      "                                            '_source': {'title': 'alice in '\n",
      "                                                                 'wonderland'},\n",
      "                                            '_type': 'suggestion',\n",
      "                                            'text': 'alice'},\n",
      "                                           {'_id': '15376',\n",
      "                                            '_index': 'suggest_quiz',\n",
      "                                            '_score': 19.0,\n",
      "                                            '_source': {'title': 'alien '\n",
      "                                                                 'invasion'},\n",
      "                                            '_type': 'suggestion',\n",
      "                                            'text': 'alien'},\n",
      "                                           {'_id': '15865',\n",
      "                                            '_index': 'suggest_quiz',\n",
      "                                            '_score': 18.0,\n",
      "                                            '_source': {'title': 'le '\n",
      "                                                                 'vocabulaire '\n",
      "                                                                 'des '\n",
      "                                                                 'aliments'},\n",
      "                                            '_type': 'suggestion',\n",
      "                                            'text': 'aliments'},\n",
      "                                           {'_id': '24162',\n",
      "                                            '_index': 'suggest_quiz',\n",
      "                                            '_score': 10.0,\n",
      "                                            '_source': {'title': 'ali a'},\n",
      "                                            '_type': 'suggestion',\n",
      "                                            'text': 'ali'},\n",
      "                                           {'_id': '31256',\n",
      "                                            '_index': 'suggest_quiz',\n",
      "                                            '_score': 7.0,\n",
      "                                            '_source': {'title': 'alien and '\n",
      "                                                                 'sedition '\n",
      "                                                                 'act'},\n",
      "                                            '_type': 'suggestion',\n",
      "                                            'text': 'alien and sedition act'}],\n",
      "                               'text': 'ali'}]},\n",
      " 'timed_out': False,\n",
      " 'took': 3}\n"
     ]
    }
   ],
   "source": [
    "q = {\n",
    "    \"_source\": [\"title\"],\n",
    "    \"suggest\": {\n",
    "        \"quiz-suggest\" : {\n",
    "            \"prefix\" : \"ali\", \n",
    "            \"completion\" : {\n",
    "                \"field\" : \"suggest\",\n",
    "                \"skip_duplicates\": True\n",
    "            }\n",
    "        }\n",
    "    }\n",
    "}\n",
    "\n",
    "result = es.search(index=\"suggest_quiz\", body=json.dumps(q))\n",
    "# for i in result:\n",
    "#     print(i['_source']['id'], ' - ', i['_source']['name'])\n",
    "\n",
    "pprint.pprint(result)"
   ]
  },
  {
   "cell_type": "code",
   "execution_count": 2,
   "metadata": {},
   "outputs": [
    {
     "name": "stdout",
     "output_type": "stream",
     "text": [
      "{'_shards': {'failed': 0, 'skipped': 0, 'successful': 5, 'total': 5},\n",
      " 'hits': {'hits': [], 'max_score': 0.0, 'total': 0},\n",
      " 'suggest': {'quiz-suggest': [{'length': 4,\n",
      "                               'offset': 0,\n",
      "                               'options': [{'_id': 'mathematics01',\n",
      "                                            '_index': 'suggest_broad',\n",
      "                                            '_score': 199.0,\n",
      "                                            '_source': {'title': 'Mathematics: '\n",
      "                                                                 'Pre-algebra'},\n",
      "                                            '_type': 'suggestion',\n",
      "                                            'text': 'mathematics'}],\n",
      "                               'text': 'math'}]},\n",
      " 'timed_out': False,\n",
      " 'took': 4}\n"
     ]
    }
   ],
   "source": [
    "q = {\n",
    "    \"_source\": [\"title\"],\n",
    "    \"suggest\": {\n",
    "        \"quiz-suggest\" : {\n",
    "            \"prefix\" : \"math\", \n",
    "            \"completion\" : {\n",
    "                \"field\" : \"suggest\",\n",
    "                \"skip_duplicates\": True\n",
    "            }\n",
    "        }\n",
    "    }\n",
    "}\n",
    "\n",
    "result = es.search(index=\"suggest_broad\", body=json.dumps(q))\n",
    "# for i in result:\n",
    "#     print(i['_source']['id'], ' - ', i['_source']['name'])\n",
    "\n",
    "pprint.pprint(result)"
   ]
  },
  {
   "cell_type": "code",
   "execution_count": null,
   "metadata": {},
   "outputs": [],
   "source": []
  }
 ],
 "metadata": {
  "kernelspec": {
   "display_name": "Python 3",
   "language": "python",
   "name": "python3"
  },
  "language_info": {
   "codemirror_mode": {
    "name": "ipython",
    "version": 3
   },
   "file_extension": ".py",
   "mimetype": "text/x-python",
   "name": "python",
   "nbconvert_exporter": "python",
   "pygments_lexer": "ipython3",
   "version": "3.7.9"
  }
 },
 "nbformat": 4,
 "nbformat_minor": 4
}
